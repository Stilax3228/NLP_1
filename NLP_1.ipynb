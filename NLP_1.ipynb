{
  "nbformat": 4,
  "nbformat_minor": 0,
  "metadata": {
    "colab": {
      "provenance": []
    },
    "kernelspec": {
      "name": "python3",
      "display_name": "Python 3"
    },
    "language_info": {
      "name": "python"
    }
  },
  "cells": [
    {
      "cell_type": "code",
      "execution_count": 49,
      "metadata": {
        "id": "UgRxbSPvhC4K"
      },
      "outputs": [],
      "source": [
        "import pandas as pd\n",
        "import spacy\n",
        "from sklearn.model_selection import train_test_split"
      ]
    },
    {
      "cell_type": "code",
      "source": [
        "!python3 -m spacy download en_core_web_sm"
      ],
      "metadata": {
        "id": "ym7j20P9j13O"
      },
      "execution_count": null,
      "outputs": []
    },
    {
      "cell_type": "markdown",
      "source": [
        "Подгружаем данные, выводим первые 10 строк"
      ],
      "metadata": {
        "id": "u7Sxwpgnm_Dj"
      }
    },
    {
      "cell_type": "code",
      "source": [
        "data = pd.read_csv('Stress.csv')\n",
        "data.head(10)"
      ],
      "metadata": {
        "colab": {
          "base_uri": "https://localhost:8080/",
          "height": 407
        },
        "id": "JIkWKQ_oi0lk",
        "outputId": "69bc04f4-91a4-468e-892a-1bc41d542bfc"
      },
      "execution_count": 51,
      "outputs": [
        {
          "output_type": "execute_result",
          "data": {
            "text/plain": [
              "          subreddit post_id sentence_range  \\\n",
              "0              ptsd  8601tu       (15, 20)   \n",
              "1        assistance  8lbrx9         (0, 5)   \n",
              "2              ptsd  9ch1zh       (15, 20)   \n",
              "3     relationships  7rorpp        [5, 10]   \n",
              "4  survivorsofabuse  9p2gbc         [0, 5]   \n",
              "5     relationships  7tx7et       (30, 35)   \n",
              "6  domesticviolence  7iphly       [25, 30]   \n",
              "7           anxiety  5m3k80        (5, 10)   \n",
              "8     relationships  7nhy1v       (50, 55)   \n",
              "9        assistance  61eiq6       [15, 20]   \n",
              "\n",
              "                                                text  label  confidence  \\\n",
              "0  He said he had not felt that way before, sugge...      1         0.8   \n",
              "1  Hey there r/assistance, Not sure if this is th...      0         1.0   \n",
              "2  My mom then hit me with the newspaper and it s...      1         0.8   \n",
              "3  until i met my new boyfriend, he is amazing, h...      1         0.6   \n",
              "4  October is Domestic Violence Awareness Month a...      1         0.8   \n",
              "5  I think he doesn't want to put in the effort f...      1         1.0   \n",
              "6  It was a big company so luckily I didn't have ...      0         0.8   \n",
              "7    It cleared up and I was okay but. On Monday ...      1         0.8   \n",
              "8  I actually give an assistant half my emergency...      1         0.6   \n",
              "9  I just feel like the street life has fucked my...      1         1.0   \n",
              "\n",
              "   social_timestamp  \n",
              "0        1521614353  \n",
              "1        1527009817  \n",
              "2        1535935605  \n",
              "3        1516429555  \n",
              "4        1539809005  \n",
              "5        1517274027  \n",
              "6        1512854409  \n",
              "7        1483582174  \n",
              "8        1514843984  \n",
              "9        1490428087  "
            ],
            "text/html": [
              "\n",
              "  <div id=\"df-3f2f3b5c-ec97-4c5f-9bb4-2cf1db2d600d\">\n",
              "    <div class=\"colab-df-container\">\n",
              "      <div>\n",
              "<style scoped>\n",
              "    .dataframe tbody tr th:only-of-type {\n",
              "        vertical-align: middle;\n",
              "    }\n",
              "\n",
              "    .dataframe tbody tr th {\n",
              "        vertical-align: top;\n",
              "    }\n",
              "\n",
              "    .dataframe thead th {\n",
              "        text-align: right;\n",
              "    }\n",
              "</style>\n",
              "<table border=\"1\" class=\"dataframe\">\n",
              "  <thead>\n",
              "    <tr style=\"text-align: right;\">\n",
              "      <th></th>\n",
              "      <th>subreddit</th>\n",
              "      <th>post_id</th>\n",
              "      <th>sentence_range</th>\n",
              "      <th>text</th>\n",
              "      <th>label</th>\n",
              "      <th>confidence</th>\n",
              "      <th>social_timestamp</th>\n",
              "    </tr>\n",
              "  </thead>\n",
              "  <tbody>\n",
              "    <tr>\n",
              "      <th>0</th>\n",
              "      <td>ptsd</td>\n",
              "      <td>8601tu</td>\n",
              "      <td>(15, 20)</td>\n",
              "      <td>He said he had not felt that way before, sugge...</td>\n",
              "      <td>1</td>\n",
              "      <td>0.8</td>\n",
              "      <td>1521614353</td>\n",
              "    </tr>\n",
              "    <tr>\n",
              "      <th>1</th>\n",
              "      <td>assistance</td>\n",
              "      <td>8lbrx9</td>\n",
              "      <td>(0, 5)</td>\n",
              "      <td>Hey there r/assistance, Not sure if this is th...</td>\n",
              "      <td>0</td>\n",
              "      <td>1.0</td>\n",
              "      <td>1527009817</td>\n",
              "    </tr>\n",
              "    <tr>\n",
              "      <th>2</th>\n",
              "      <td>ptsd</td>\n",
              "      <td>9ch1zh</td>\n",
              "      <td>(15, 20)</td>\n",
              "      <td>My mom then hit me with the newspaper and it s...</td>\n",
              "      <td>1</td>\n",
              "      <td>0.8</td>\n",
              "      <td>1535935605</td>\n",
              "    </tr>\n",
              "    <tr>\n",
              "      <th>3</th>\n",
              "      <td>relationships</td>\n",
              "      <td>7rorpp</td>\n",
              "      <td>[5, 10]</td>\n",
              "      <td>until i met my new boyfriend, he is amazing, h...</td>\n",
              "      <td>1</td>\n",
              "      <td>0.6</td>\n",
              "      <td>1516429555</td>\n",
              "    </tr>\n",
              "    <tr>\n",
              "      <th>4</th>\n",
              "      <td>survivorsofabuse</td>\n",
              "      <td>9p2gbc</td>\n",
              "      <td>[0, 5]</td>\n",
              "      <td>October is Domestic Violence Awareness Month a...</td>\n",
              "      <td>1</td>\n",
              "      <td>0.8</td>\n",
              "      <td>1539809005</td>\n",
              "    </tr>\n",
              "    <tr>\n",
              "      <th>5</th>\n",
              "      <td>relationships</td>\n",
              "      <td>7tx7et</td>\n",
              "      <td>(30, 35)</td>\n",
              "      <td>I think he doesn't want to put in the effort f...</td>\n",
              "      <td>1</td>\n",
              "      <td>1.0</td>\n",
              "      <td>1517274027</td>\n",
              "    </tr>\n",
              "    <tr>\n",
              "      <th>6</th>\n",
              "      <td>domesticviolence</td>\n",
              "      <td>7iphly</td>\n",
              "      <td>[25, 30]</td>\n",
              "      <td>It was a big company so luckily I didn't have ...</td>\n",
              "      <td>0</td>\n",
              "      <td>0.8</td>\n",
              "      <td>1512854409</td>\n",
              "    </tr>\n",
              "    <tr>\n",
              "      <th>7</th>\n",
              "      <td>anxiety</td>\n",
              "      <td>5m3k80</td>\n",
              "      <td>(5, 10)</td>\n",
              "      <td>It cleared up and I was okay but. On Monday ...</td>\n",
              "      <td>1</td>\n",
              "      <td>0.8</td>\n",
              "      <td>1483582174</td>\n",
              "    </tr>\n",
              "    <tr>\n",
              "      <th>8</th>\n",
              "      <td>relationships</td>\n",
              "      <td>7nhy1v</td>\n",
              "      <td>(50, 55)</td>\n",
              "      <td>I actually give an assistant half my emergency...</td>\n",
              "      <td>1</td>\n",
              "      <td>0.6</td>\n",
              "      <td>1514843984</td>\n",
              "    </tr>\n",
              "    <tr>\n",
              "      <th>9</th>\n",
              "      <td>assistance</td>\n",
              "      <td>61eiq6</td>\n",
              "      <td>[15, 20]</td>\n",
              "      <td>I just feel like the street life has fucked my...</td>\n",
              "      <td>1</td>\n",
              "      <td>1.0</td>\n",
              "      <td>1490428087</td>\n",
              "    </tr>\n",
              "  </tbody>\n",
              "</table>\n",
              "</div>\n",
              "      <button class=\"colab-df-convert\" onclick=\"convertToInteractive('df-3f2f3b5c-ec97-4c5f-9bb4-2cf1db2d600d')\"\n",
              "              title=\"Convert this dataframe to an interactive table.\"\n",
              "              style=\"display:none;\">\n",
              "        \n",
              "  <svg xmlns=\"http://www.w3.org/2000/svg\" height=\"24px\"viewBox=\"0 0 24 24\"\n",
              "       width=\"24px\">\n",
              "    <path d=\"M0 0h24v24H0V0z\" fill=\"none\"/>\n",
              "    <path d=\"M18.56 5.44l.94 2.06.94-2.06 2.06-.94-2.06-.94-.94-2.06-.94 2.06-2.06.94zm-11 1L8.5 8.5l.94-2.06 2.06-.94-2.06-.94L8.5 2.5l-.94 2.06-2.06.94zm10 10l.94 2.06.94-2.06 2.06-.94-2.06-.94-.94-2.06-.94 2.06-2.06.94z\"/><path d=\"M17.41 7.96l-1.37-1.37c-.4-.4-.92-.59-1.43-.59-.52 0-1.04.2-1.43.59L10.3 9.45l-7.72 7.72c-.78.78-.78 2.05 0 2.83L4 21.41c.39.39.9.59 1.41.59.51 0 1.02-.2 1.41-.59l7.78-7.78 2.81-2.81c.8-.78.8-2.07 0-2.86zM5.41 20L4 18.59l7.72-7.72 1.47 1.35L5.41 20z\"/>\n",
              "  </svg>\n",
              "      </button>\n",
              "      \n",
              "  <style>\n",
              "    .colab-df-container {\n",
              "      display:flex;\n",
              "      flex-wrap:wrap;\n",
              "      gap: 12px;\n",
              "    }\n",
              "\n",
              "    .colab-df-convert {\n",
              "      background-color: #E8F0FE;\n",
              "      border: none;\n",
              "      border-radius: 50%;\n",
              "      cursor: pointer;\n",
              "      display: none;\n",
              "      fill: #1967D2;\n",
              "      height: 32px;\n",
              "      padding: 0 0 0 0;\n",
              "      width: 32px;\n",
              "    }\n",
              "\n",
              "    .colab-df-convert:hover {\n",
              "      background-color: #E2EBFA;\n",
              "      box-shadow: 0px 1px 2px rgba(60, 64, 67, 0.3), 0px 1px 3px 1px rgba(60, 64, 67, 0.15);\n",
              "      fill: #174EA6;\n",
              "    }\n",
              "\n",
              "    [theme=dark] .colab-df-convert {\n",
              "      background-color: #3B4455;\n",
              "      fill: #D2E3FC;\n",
              "    }\n",
              "\n",
              "    [theme=dark] .colab-df-convert:hover {\n",
              "      background-color: #434B5C;\n",
              "      box-shadow: 0px 1px 3px 1px rgba(0, 0, 0, 0.15);\n",
              "      filter: drop-shadow(0px 1px 2px rgba(0, 0, 0, 0.3));\n",
              "      fill: #FFFFFF;\n",
              "    }\n",
              "  </style>\n",
              "\n",
              "      <script>\n",
              "        const buttonEl =\n",
              "          document.querySelector('#df-3f2f3b5c-ec97-4c5f-9bb4-2cf1db2d600d button.colab-df-convert');\n",
              "        buttonEl.style.display =\n",
              "          google.colab.kernel.accessAllowed ? 'block' : 'none';\n",
              "\n",
              "        async function convertToInteractive(key) {\n",
              "          const element = document.querySelector('#df-3f2f3b5c-ec97-4c5f-9bb4-2cf1db2d600d');\n",
              "          const dataTable =\n",
              "            await google.colab.kernel.invokeFunction('convertToInteractive',\n",
              "                                                     [key], {});\n",
              "          if (!dataTable) return;\n",
              "\n",
              "          const docLinkHtml = 'Like what you see? Visit the ' +\n",
              "            '<a target=\"_blank\" href=https://colab.research.google.com/notebooks/data_table.ipynb>data table notebook</a>'\n",
              "            + ' to learn more about interactive tables.';\n",
              "          element.innerHTML = '';\n",
              "          dataTable['output_type'] = 'display_data';\n",
              "          await google.colab.output.renderOutput(dataTable, element);\n",
              "          const docLink = document.createElement('div');\n",
              "          docLink.innerHTML = docLinkHtml;\n",
              "          element.appendChild(docLink);\n",
              "        }\n",
              "      </script>\n",
              "    </div>\n",
              "  </div>\n",
              "  "
            ]
          },
          "metadata": {},
          "execution_count": 51
        }
      ]
    },
    {
      "cell_type": "markdown",
      "source": [
        "Произведем оценку репрезентативности датасета. Можно наблюдать, что элементы некоторых классов представлены в меньшем процентном соотношении. Однако общее отношение \"стрессовых\" и \"нестрессовых\" классов почти равное."
      ],
      "metadata": {
        "id": "kyxWAQqjnKJA"
      }
    },
    {
      "cell_type": "code",
      "source": [
        "\n",
        "plot = data['subreddit'].value_counts().plot.pie(y='subreddit', figsize=(5, 5))\n",
        "data['subreddit'].value_counts()\n"
      ],
      "metadata": {
        "id": "MKy1ITxSjMP5",
        "outputId": "021eead8-70c4-46db-f5bd-be18b68745f2",
        "colab": {
          "base_uri": "https://localhost:8080/",
          "height": 618
        }
      },
      "execution_count": 52,
      "outputs": [
        {
          "output_type": "execute_result",
          "data": {
            "text/plain": [
              "ptsd                584\n",
              "relationships       552\n",
              "anxiety             503\n",
              "domesticviolence    316\n",
              "assistance          289\n",
              "survivorsofabuse    245\n",
              "homeless            168\n",
              "almosthomeless       80\n",
              "stress               64\n",
              "food_pantry          37\n",
              "Name: subreddit, dtype: int64"
            ]
          },
          "metadata": {},
          "execution_count": 52
        },
        {
          "output_type": "display_data",
          "data": {
            "text/plain": [
              "<Figure size 500x500 with 1 Axes>"
            ],
            "image/png": "[encoded data removed]"
          },
          "metadata": {}
        }
      ]
    },
    {
      "cell_type": "code",
      "source": [
        "plot = data['label'].value_counts().plot.pie(y='label', figsize=(5, 5))\n",
        "data['label'].value_counts()"
      ],
      "metadata": {
        "colab": {
          "base_uri": "https://localhost:8080/",
          "height": 476
        },
        "id": "ZX68gAKWx6T3",
        "outputId": "e82c925e-c42a-4116-f551-7095f0c684f3"
      },
      "execution_count": 53,
      "outputs": [
        {
          "output_type": "execute_result",
          "data": {
            "text/plain": [
              "1    1488\n",
              "0    1350\n",
              "Name: label, dtype: int64"
            ]
          },
          "metadata": {},
          "execution_count": 53
        },
        {
          "output_type": "display_data",
          "data": {
            "text/plain": [
              "<Figure size 500x500 with 1 Axes>"
            ],
            "image/png": "[encoded data removed]"
          },
          "metadata": {}
        }
      ]
    },
    {
      "cell_type": "markdown",
      "source": [],
      "metadata": {
        "id": "x2WYYDLJoY0Q"
      }
    },
    {
      "cell_type": "markdown",
      "source": [
        "Произведем очистку текстов от символов пунктуации, чисел, ненужных пробелов и тд.\n",
        "Сформируем новую колонку \"чистого\" текста. Ниже представлен пример исходного текста"
      ],
      "metadata": {
        "id": "HLeU-_jOnd7R"
      }
    },
    {
      "cell_type": "code",
      "source": [
        "data['text'].iloc[2]"
      ],
      "metadata": {
        "colab": {
          "base_uri": "https://localhost:8080/",
          "height": 160
        },
        "id": "x9KHmupcn7pC",
        "outputId": "66af661a-1221-44f7-d054-91fc2939008c"
      },
      "execution_count": 54,
      "outputs": [
        {
          "output_type": "execute_result",
          "data": {
            "text/plain": [
              "'My mom then hit me with the newspaper and it shocked me that she would do this, she knows I don\\'t like play hitting, smacking, striking, hitting or violence of any sort on my person. Do I send out this vibe asking for it from the universe? Then yesterday I decided to take my friend to go help another \"friend\" move to a new place. While we were driving the friend we are moving strikes me on my shoulder. And I address it immediately because this is the 4th time I have told him not to do these things, then my other friend who is driving nearly gets into an collision with another car i think because he was high on marijuana and the friend we are moving in the backseat is like \"you have to understand I was just trying to get your attention\" you know the thing 5 year olds do to get peoples attention by smacking them, this guy is in his 60\\'s.'"
            ],
            "application/vnd.google.colaboratory.intrinsic+json": {
              "type": "string"
            }
          },
          "metadata": {},
          "execution_count": 54
        }
      ]
    },
    {
      "cell_type": "code",
      "source": [
        "nlp = spacy.load(\"en_core_web_sm\")\n",
        "stopwords = nlp.Defaults.stop_words\n",
        "\n",
        "data['cleaned_text'] = data['text'].apply(\n",
        "    lambda x: ' '.join(\n",
        "        token.lemma_.lower() for token in nlp(x) if \n",
        "        not token.is_stop \n",
        "        and not token.is_punct\n",
        "        and not token.is_digit\n",
        "        and not token.like_email\n",
        "        and not token.like_num\n",
        "        and not token.is_space\n",
        "    )\n",
        ")"
      ],
      "metadata": {
        "id": "66IzpeKEkKcz"
      },
      "execution_count": 55,
      "outputs": []
    },
    {
      "cell_type": "markdown",
      "source": [
        "Текст после очистки"
      ],
      "metadata": {
        "id": "N-MR4mRtwgni"
      }
    },
    {
      "cell_type": "code",
      "source": [
        "data['cleaned_text'].iloc[2]"
      ],
      "metadata": {
        "colab": {
          "base_uri": "https://localhost:8080/",
          "height": 89
        },
        "id": "wrw4ieKVkmlK",
        "outputId": "6f4a6e9e-fe8a-43b0-908e-602b58e6ec91"
      },
      "execution_count": 56,
      "outputs": [
        {
          "output_type": "execute_result",
          "data": {
            "text/plain": [
              "'mom hit newspaper shock know like play hit smacking striking hit violence sort person send vibe ask universe yesterday decide friend help friend new place drive friend move strike shoulder address immediately time tell thing friend drive nearly get collision car think high marijuana friend move backseat like understand try attention know thing year old people attention smack guy'"
            ],
            "application/vnd.google.colaboratory.intrinsic+json": {
              "type": "string"
            }
          },
          "metadata": {},
          "execution_count": 56
        }
      ]
    },
    {
      "cell_type": "markdown",
      "source": [
        "Произведем разделение выборки на обучающую и валидационную"
      ],
      "metadata": {
        "id": "Aadg1WY41HNX"
      }
    },
    {
      "cell_type": "code",
      "source": [
        "X_train, X_test, y_train, y_test = train_test_split(data['cleaned_text'], data['label'])\n",
        "\n",
        "X_train"
      ],
      "metadata": {
        "colab": {
          "base_uri": "https://localhost:8080/"
        },
        "id": "LecWR7YhwuSR",
        "outputId": "a349ffb1-5b93-4b23-a973-2eb6359975b0"
      },
      "execution_count": 57,
      "outputs": [
        {
          "output_type": "execute_result",
          "data": {
            "text/plain": [
              "2100    edit thread get attention imagine people offer...\n",
              "1333    asset sell outside broken android phone family...\n",
              "2493    try pay old bill like delinquent + electric bi...\n",
              "2677    ok original trauma molest grandfather start go...\n",
              "2053    got connect dv shelter town connect crime vict...\n",
              "                              ...                        \n",
              "1331    sister shift worker work clock ridiculous time...\n",
              "2410    try read plenty motivational quote day strengt...\n",
              "1001    work hard spend money fail drive test idea ret...\n",
              "621     thank reading time update probably add terrify...\n",
              "2461    snot slobber uncontrollable sadness explain la...\n",
              "Name: cleaned_text, Length: 2128, dtype: object"
            ]
          },
          "metadata": {},
          "execution_count": 57
        }
      ]
    }
  ]
}